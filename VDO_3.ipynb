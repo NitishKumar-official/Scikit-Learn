{
 "cells": [
  {
   "cell_type": "markdown",
   "metadata": {},
   "source": [
    "topic:-StanderdScaler"
   ]
  },
  {
   "cell_type": "code",
   "execution_count": 13,
   "metadata": {},
   "outputs": [],
   "source": [
    "import numpy as np\n",
    "import pandas as pd\n",
    "import seaborn as sns\n",
    "import matplotlib.pyplot as plt"
   ]
  },
  {
   "cell_type": "code",
   "execution_count": 14,
   "metadata": {},
   "outputs": [
    {
     "name": "stdout",
     "output_type": "stream",
     "text": [
      "    User ID  Gender  Age  EstimatedSalary  Purchased\n",
      "0  15624510    Male   19            19000          0\n",
      "1  15810944    Male   35            20000          0\n",
      "2  15668575  Female   26            43000          0\n",
      "3  15603246  Female   27            57000          0\n",
      "4  15804002    Male   19            76000          0\n"
     ]
    }
   ],
   "source": [
    "df = pd.read_csv(\"Social_Network_Ads.csv\")\n",
    "print(df.head())"
   ]
  },
  {
   "cell_type": "code",
   "execution_count": 15,
   "metadata": {},
   "outputs": [
    {
     "name": "stdout",
     "output_type": "stream",
     "text": [
      "     Gender  Age  EstimatedSalary  Purchased\n",
      "0      Male   19            19000          0\n",
      "1      Male   35            20000          0\n",
      "2    Female   26            43000          0\n",
      "3    Female   27            57000          0\n",
      "4      Male   19            76000          0\n",
      "..      ...  ...              ...        ...\n",
      "395  Female   46            41000          1\n",
      "396    Male   51            23000          1\n",
      "397  Female   50            20000          1\n",
      "398    Male   36            33000          0\n",
      "399  Female   49            36000          1\n",
      "\n",
      "[400 rows x 4 columns]\n"
     ]
    }
   ],
   "source": [
    "df.drop('User ID', axis=1, inplace=True)\n",
    "print(df)"
   ]
  },
  {
   "cell_type": "code",
   "execution_count": 16,
   "metadata": {},
   "outputs": [],
   "source": [
    "df['Gender'] = df['Gender'].map({'Male':1,'Female':0})\n"
   ]
  },
  {
   "cell_type": "code",
   "execution_count": 18,
   "metadata": {},
   "outputs": [
    {
     "name": "stdout",
     "output_type": "stream",
     "text": [
      "   Gender  Age  EstimatedSalary  Purchased\n",
      "0       1   19            19000          0\n",
      "1       1   35            20000          0\n",
      "2       0   26            43000          0\n",
      "3       0   27            57000          0\n",
      "4       1   19            76000          0\n"
     ]
    }
   ],
   "source": [
    "print(df.head())"
   ]
  },
  {
   "cell_type": "markdown",
   "metadata": {},
   "source": [
    "# Train Test Split"
   ]
  },
  {
   "cell_type": "code",
   "execution_count": 21,
   "metadata": {},
   "outputs": [],
   "source": [
    "from sklearn.model_selection import train_test_split\n",
    "\n",
    "x = df.drop('Purchased', axis=1)\n",
    "y = df[\"Purchased\"]"
   ]
  },
  {
   "cell_type": "code",
   "execution_count": 23,
   "metadata": {},
   "outputs": [],
   "source": [
    "x_train, x_test, y_train, y_test = train_test_split(x, y, test_size=0.33, random_state=42)"
   ]
  },
  {
   "cell_type": "markdown",
   "metadata": {},
   "source": [
    "# Applying StanderScaler"
   ]
  },
  {
   "cell_type": "code",
   "execution_count": 28,
   "metadata": {},
   "outputs": [],
   "source": [
    "from sklearn.preprocessing import StandardScaler\n",
    "scaler = StandardScaler()"
   ]
  },
  {
   "cell_type": "code",
   "execution_count": 29,
   "metadata": {},
   "outputs": [],
   "source": [
    "x_train_scaled = scaler.fit_transform(x_train)\n",
    "x_test_scaled =  scaler.transform(x_test)"
   ]
  },
  {
   "cell_type": "code",
   "execution_count": 33,
   "metadata": {},
   "outputs": [
    {
     "name": "stdout",
     "output_type": "stream",
     "text": [
      "[[-0.97785703  2.0052225   0.72479792]\n",
      " [ 1.02264438 -1.22740379 -1.43119212]\n",
      " [ 1.02264438  0.33993017 -0.33843005]\n",
      " [ 1.02264438 -0.93352867  0.54759326]\n",
      " [-0.97785703  0.43788855  0.28178627]\n",
      " [-0.97785703  0.43788855  1.10874135]\n",
      " [-0.97785703  0.82972204  0.75433203]\n",
      " [-0.97785703  0.92768041  1.2564119 ]\n",
      " [-0.97785703 -0.44373681 -1.25398746]\n",
      " [ 1.02264438 -1.81515402 -1.34258979]\n",
      " [ 1.02264438  1.12359715  0.54759326]\n",
      " [-0.97785703 -0.63965355 -1.63793089]\n",
      " [-0.97785703 -0.73761192  0.25225216]\n",
      " [ 1.02264438  1.02563878  2.08336699]\n",
      " [-0.97785703 -0.54169518  1.37454834]\n",
      " [-0.97785703 -0.05190332  0.01597928]\n",
      " [-0.97785703 -1.91311239  0.45899093]\n",
      " [-0.97785703  0.43788855  0.25225216]\n",
      " [-0.97785703 -1.03148704  0.39992271]\n",
      " [ 1.02264438  0.2419718  -0.16122538]\n",
      " [ 1.02264438  1.90726413  0.10458161]\n",
      " [-0.97785703 -1.12944541 -1.63793089]\n",
      " [-0.97785703 -1.12944541  0.28178627]\n",
      " [ 1.02264438 -0.8355703  -0.81097581]\n",
      " [-0.97785703 -0.44373681  2.31963987]\n",
      " [ 1.02264438  0.14401343 -0.84050992]\n",
      " [-0.97785703  1.61338901  0.99060491]\n",
      " [ 1.02264438 -0.14986169 -1.10631691]\n",
      " [-0.97785703  0.82972204 -1.13585102]\n",
      " [-0.97785703  0.2419718   2.1129011 ]\n",
      " [-0.97785703 -0.05190332 -0.24982772]\n",
      " [ 1.02264438 -0.8355703   2.29010576]\n",
      " [-0.97785703 -0.05190332 -0.39749827]\n",
      " [ 1.02264438 -0.24782006 -0.60423704]\n",
      " [-0.97785703  0.43788855 -0.51563471]\n",
      " [ 1.02264438 -0.24782006 -0.95864636]\n",
      " [-0.97785703  0.33993017 -1.19491924]\n",
      " [-0.97785703  0.2419718   0.04551339]\n",
      " [ 1.02264438 -1.12944541 -1.63793089]\n",
      " [-0.97785703 -0.63965355 -0.07262305]\n",
      " [ 1.02264438 -0.24782006 -0.51563471]\n",
      " [-0.97785703 -0.24782006 -1.34258979]\n",
      " [ 1.02264438 -0.73761192  0.54759326]\n",
      " [ 1.02264438  0.33993017  0.04551339]\n",
      " [ 1.02264438 -0.93352867  1.551753  ]\n",
      " [-0.97785703  0.82972204  0.34085449]\n",
      " [-0.97785703 -1.5212789  -0.22029361]\n",
      " [-0.97785703  0.73176366 -1.43119212]\n",
      " [ 1.02264438 -0.73761192 -0.63377115]\n",
      " [-0.97785703 -0.34577843 -1.34258979]\n",
      " [-0.97785703  0.2419718   0.13411572]\n",
      " [-0.97785703 -0.54169518  1.37454834]\n",
      " [-0.97785703 -1.42332053  0.34085449]\n",
      " [ 1.02264438 -1.12944541  0.28178627]\n",
      " [-0.97785703  1.02563878  1.78802589]\n",
      " [ 1.02264438  2.10318088  2.14243521]\n",
      " [ 1.02264438 -0.24782006 -0.45656649]\n",
      " [ 1.02264438 -0.34577843 -0.81097581]\n",
      " [-0.97785703  0.14401343 -0.27936183]\n",
      " [-0.97785703 -1.03148704  0.75433203]\n",
      " [ 1.02264438  2.20113925  0.3703886 ]\n",
      " [ 1.02264438 -1.32536216 -0.45656649]\n",
      " [ 1.02264438  2.0052225   2.17196932]\n",
      " [-0.97785703  1.51543064  0.99060491]\n",
      " [ 1.02264438 -0.24782006  0.25225216]\n",
      " [ 1.02264438 -0.14986169  0.84293436]\n",
      " [ 1.02264438  1.90726413 -0.30889594]\n",
      " [-0.97785703 -0.05190332  1.96523055]\n",
      " [ 1.02264438 -0.44373681 -0.81097581]\n",
      " [-0.97785703  0.33993017  0.01597928]\n",
      " [-0.97785703  1.41747227 -1.46072623]\n",
      " [ 1.02264438  1.41747227  2.34917398]\n",
      " [ 1.02264438 -0.05190332 -0.01355483]\n",
      " [-0.97785703 -1.12944541  0.39992271]\n",
      " [-0.97785703 -1.12944541  0.04551339]\n",
      " [-0.97785703 -1.12944541 -0.54516882]\n",
      " [-0.97785703  0.33993017 -0.30889594]\n",
      " [ 1.02264438 -0.63965355 -0.13169127]\n",
      " [ 1.02264438 -0.05190332  2.17196932]\n",
      " [ 1.02264438  0.04605506 -0.27936183]\n",
      " [-0.97785703 -0.63965355 -1.0767828 ]\n",
      " [-0.97785703  0.43788855  0.13411572]\n",
      " [ 1.02264438  0.82972204  1.37454834]\n",
      " [ 1.02264438 -0.14986169 -0.54516882]\n",
      " [ 1.02264438  0.04605506  0.01597928]\n",
      " [ 1.02264438  1.12359715  0.51805915]\n",
      " [-0.97785703  1.90726413 -1.10631691]\n",
      " [-0.97785703  1.02563878  1.99476466]\n",
      " [-0.97785703  0.92768041 -0.60423704]\n",
      " [-0.97785703 -0.44373681 -0.04308894]\n",
      " [-0.97785703 -0.05190332  2.23103754]\n",
      " [-0.97785703 -1.71719565  0.34085449]\n",
      " [ 1.02264438  0.2419718  -0.69283937]\n",
      " [ 1.02264438 -0.24782006 -1.43119212]\n",
      " [-0.97785703 -1.71719565 -1.01771458]\n",
      " [-0.97785703  0.73176366 -0.75190759]\n",
      " [-0.97785703 -1.12944541 -0.81097581]\n",
      " [-0.97785703  2.0052225   0.90200258]\n",
      " [ 1.02264438  0.2419718  -0.39749827]\n",
      " [-0.97785703  0.04605506  1.22687779]\n",
      " [-0.97785703 -0.05190332  0.28178627]\n",
      " [ 1.02264438  1.12359715 -1.25398746]\n",
      " [-0.97785703 -0.14986169  0.13411572]\n",
      " [-0.97785703  0.33993017  0.04551339]\n",
      " [-0.97785703 -0.24782006 -0.30889594]\n",
      " [ 1.02264438  0.53584692  1.72895767]\n",
      " [ 1.02264438  0.33993017  0.48852504]\n",
      " [-0.97785703  0.04605506  1.2564119 ]\n",
      " [-0.97785703  2.0052225  -1.40165801]\n",
      " [ 1.02264438 -1.12944541 -1.13585102]\n",
      " [ 1.02264438 -0.54169518 -1.54932856]\n",
      " [ 1.02264438  0.33993017 -0.54516882]\n",
      " [ 1.02264438 -0.63965355 -1.54932856]\n",
      " [ 1.02264438 -0.24782006  0.51805915]\n",
      " [-0.97785703  1.02563878 -1.04724869]\n",
      " [ 1.02264438 -1.03148704  0.54759326]\n",
      " [-0.97785703 -0.24782006  0.78386614]\n",
      " [ 1.02264438  0.43788855  0.0750475 ]\n",
      " [-0.97785703 -1.61923728 -0.07262305]\n",
      " [-0.97785703  0.33993017  0.04551339]\n",
      " [-0.97785703 -0.44373681 -0.30889594]\n",
      " [ 1.02264438  0.14401343  1.87662822]\n",
      " [-0.97785703 -0.93352867  0.39992271]\n",
      " [ 1.02264438  0.82972204  0.51805915]\n",
      " [ 1.02264438 -1.32536216 -0.36796416]\n",
      " [-0.97785703 -0.63965355  1.40408245]\n",
      " [-0.97785703  1.22155552  0.51805915]\n",
      " [-0.97785703 -1.71719565  0.34085449]\n",
      " [-0.97785703 -0.54169518  1.90616233]\n",
      " [ 1.02264438 -1.71719565  0.45899093]\n",
      " [ 1.02264438 -0.24782006 -1.28352157]\n",
      " [ 1.02264438 -0.8355703  -0.81097581]\n",
      " [ 1.02264438 -1.61923728  0.51805915]\n",
      " [ 1.02264438 -0.24782006 -0.33843005]\n",
      " [ 1.02264438  0.73176366 -1.13585102]\n",
      " [ 1.02264438  2.20113925 -0.84050992]\n",
      " [ 1.02264438 -0.24782006  0.60666148]\n",
      " [-0.97785703 -0.24782006 -0.7814417 ]\n",
      " [-0.97785703 -1.91311239 -0.7814417 ]\n",
      " [ 1.02264438  0.43788855  2.31963987]\n",
      " [ 1.02264438  0.73176366  0.25225216]\n",
      " [-0.97785703  0.2419718  -0.30889594]\n",
      " [ 1.02264438 -1.32536216 -1.40165801]\n",
      " [-0.97785703 -0.44373681 -0.57470293]\n",
      " [-0.97785703  0.43788855 -0.01355483]\n",
      " [-0.97785703  1.71134739  1.75849178]\n",
      " [-0.97785703  1.22155552 -0.7814417 ]\n",
      " [-0.97785703  1.02563878  1.43361656]\n",
      " [ 1.02264438 -1.81515402  0.16364983]\n",
      " [-0.97785703  0.33993017  0.04551339]\n",
      " [ 1.02264438  0.2419718   0.01597928]\n",
      " [ 1.02264438 -1.03148704  0.51805915]\n",
      " [-0.97785703 -0.14986169  1.64035534]\n",
      " [ 1.02264438 -0.24782006  0.13411572]\n",
      " [ 1.02264438 -0.24782006 -0.36796416]\n",
      " [ 1.02264438 -0.34577843  1.31548012]\n",
      " [ 1.02264438 -0.24782006  0.0750475 ]\n",
      " [-0.97785703  2.20113925  1.10874135]\n",
      " [ 1.02264438 -1.22740379  0.48852504]\n",
      " [-0.97785703 -1.03148704 -0.4861006 ]\n",
      " [-0.97785703 -1.61923728 -1.60839678]\n",
      " [ 1.02264438 -0.05190332  0.10458161]\n",
      " [ 1.02264438 -0.24782006 -0.92911225]\n",
      " [ 1.02264438  1.61338901 -0.01355483]\n",
      " [-0.97785703  0.92768041 -1.19491924]\n",
      " [-0.97785703  0.04605506 -0.60423704]\n",
      " [-0.97785703 -0.24782006  2.26057165]\n",
      " [-0.97785703 -0.24782006  0.19318394]\n",
      " [ 1.02264438  0.33993017  0.25225216]\n",
      " [-0.97785703 -0.05190332 -1.10631691]\n",
      " [-0.97785703  2.20113925 -0.72237348]\n",
      " [-0.97785703 -0.93352867 -0.33843005]\n",
      " [-0.97785703 -1.42332053 -0.13169127]\n",
      " [ 1.02264438 -1.42332053 -0.22029361]\n",
      " [ 1.02264438 -0.73761192 -1.57886267]\n",
      " [ 1.02264438 -1.22740379 -1.10631691]\n",
      " [-0.97785703  2.10318088  0.3703886 ]\n",
      " [-0.97785703  2.0052225  -0.95864636]\n",
      " [ 1.02264438 -1.91311239  0.34085449]\n",
      " [ 1.02264438  0.82972204 -0.33843005]\n",
      " [-0.97785703 -1.03148704 -1.57886267]\n",
      " [-0.97785703  2.0052225  -0.69283937]\n",
      " [-0.97785703  1.02563878 -1.19491924]\n",
      " [ 1.02264438  1.12359715 -0.16122538]\n",
      " [-0.97785703  1.22155552 -1.01771458]\n",
      " [ 1.02264438  1.51543064  0.04551339]\n",
      " [ 1.02264438  0.2419718  -0.39749827]\n",
      " [-0.97785703  1.41747227  1.28594601]\n",
      " [-0.97785703  2.10318088 -0.84050992]\n",
      " [-0.97785703 -0.14986169 -0.22029361]\n",
      " [ 1.02264438  0.43788855  0.99060491]\n",
      " [ 1.02264438 -0.05190332 -0.54516882]\n",
      " [ 1.02264438  1.02563878 -1.10631691]\n",
      " [-0.97785703  2.10318088 -1.22445335]\n",
      " [ 1.02264438 -0.05190332  0.25225216]\n",
      " [ 1.02264438  0.2419718  -0.27936183]\n",
      " [ 1.02264438  1.12359715  0.10458161]\n",
      " [ 1.02264438 -1.22740379  0.57712737]\n",
      " [ 1.02264438 -0.73761192 -1.63793089]\n",
      " [ 1.02264438  0.2419718   0.22271805]\n",
      " [ 1.02264438 -1.32536216  0.39992271]\n",
      " [-0.97785703  0.04605506 -0.60423704]\n",
      " [-0.97785703  0.73176366  1.78802589]\n",
      " [ 1.02264438 -1.61923728  0.04551339]\n",
      " [-0.97785703 -0.24782006 -1.40165801]\n",
      " [ 1.02264438 -0.24782006 -1.49026034]\n",
      " [-0.97785703 -0.63965355  0.54759326]\n",
      " [ 1.02264438 -0.73761192  0.28178627]\n",
      " [-0.97785703  0.92768041 -0.69283937]\n",
      " [ 1.02264438 -1.03148704  0.57712737]\n",
      " [-0.97785703 -0.24782006  0.04551339]\n",
      " [-0.97785703 -0.73761192  1.34501423]\n",
      " [ 1.02264438  0.14401343  1.52221889]\n",
      " [-0.97785703 -0.8355703   0.3703886 ]\n",
      " [-0.97785703  0.33993017 -0.22029361]\n",
      " [ 1.02264438  1.02563878  0.57712737]\n",
      " [ 1.02264438  0.04605506 -0.33843005]\n",
      " [ 1.02264438 -0.54169518 -1.54932856]\n",
      " [-0.97785703  0.14401343  0.13411572]\n",
      " [ 1.02264438 -1.12944541  0.31132038]\n",
      " [ 1.02264438  0.14401343  1.04967313]\n",
      " [-0.97785703 -1.5212789  -0.45656649]\n",
      " [ 1.02264438 -0.14986169  1.40408245]\n",
      " [ 1.02264438  2.20113925 -0.84050992]\n",
      " [-0.97785703 -0.93352867 -0.45656649]\n",
      " [-0.97785703  1.3195139   1.87662822]\n",
      " [ 1.02264438  1.12359715 -1.25398746]\n",
      " [ 1.02264438 -0.14986169 -0.30889594]\n",
      " [-0.97785703  1.80930576  0.99060491]\n",
      " [-0.97785703 -1.03148704 -0.36796416]\n",
      " [-0.97785703 -1.32536216 -1.13585102]\n",
      " [-0.97785703 -0.34577843  0.04551339]\n",
      " [ 1.02264438 -0.93352867 -1.13585102]\n",
      " [-0.97785703  1.22155552 -1.49026034]\n",
      " [-0.97785703 -0.44373681 -0.87004403]\n",
      " [-0.97785703 -0.8355703  -0.69283937]\n",
      " [ 1.02264438 -1.5212789  -1.54932856]\n",
      " [ 1.02264438 -0.73761192  1.90616233]\n",
      " [ 1.02264438  0.92768041  1.02013902]\n",
      " [ 1.02264438  0.82972204  0.25225216]\n",
      " [-0.97785703  1.02563878  1.87662822]\n",
      " [-0.97785703  0.92768041 -0.63377115]\n",
      " [-0.97785703  1.12359715  2.08336699]\n",
      " [ 1.02264438 -0.54169518  0.87246847]\n",
      " [ 1.02264438  0.04605506  0.01597928]\n",
      " [-0.97785703 -1.81515402 -1.31305568]\n",
      " [ 1.02264438 -0.05190332  0.19318394]\n",
      " [-0.97785703  0.92768041 -0.57470293]\n",
      " [ 1.02264438  0.2419718  -0.39749827]\n",
      " [ 1.02264438 -0.14986169  1.61082123]\n",
      " [ 1.02264438 -1.71719565  0.10458161]\n",
      " [ 1.02264438 -0.63965355 -0.36796416]\n",
      " [ 1.02264438  0.33993017 -0.75190759]\n",
      " [ 1.02264438  0.43788855 -0.4861006 ]\n",
      " [-0.97785703 -0.93352867 -0.98818047]\n",
      " [-0.97785703  0.14401343  0.0750475 ]\n",
      " [-0.97785703 -0.93352867  0.42945682]\n",
      " [ 1.02264438  0.04605506 -0.57470293]\n",
      " [ 1.02264438  0.92768041 -0.81097581]\n",
      " [ 1.02264438 -0.05190332  0.04551339]\n",
      " [-0.97785703  1.12359715 -1.01771458]\n",
      " [ 1.02264438  0.73176366 -1.43119212]\n",
      " [ 1.02264438 -0.24782006  0.04551339]\n",
      " [-0.97785703 -1.32536216 -1.28352157]\n",
      " [-0.97785703 -1.12944541 -1.04724869]\n",
      " [-0.97785703  0.53584692  1.84709411]\n",
      " [ 1.02264438  0.14401343  0.19318394]\n",
      " [-0.97785703 -0.54169518  0.45899093]]\n"
     ]
    }
   ],
   "source": [
    "print(x_train_scaled)"
   ]
  },
  {
   "cell_type": "markdown",
   "metadata": {},
   "source": [
    "# Standardization:-"
   ]
  },
  {
   "cell_type": "markdown",
   "metadata": {},
   "source": [
    " 1. Standardization:-\n",
    " Standardization, also know as z-score normalization, is a commonly used technique in feature scalin. it involves transforming the features in a datasets so that they have a mean of zero and a standard deviation of one.\n",
    "\n",
    " Mean = 0\n",
    " Stdv = 1 \n",
    "\n",
    "X(new) = (X(i) - X(mean))/standard deviation\n"
   ]
  },
  {
   "cell_type": "code",
   "execution_count": 34,
   "metadata": {},
   "outputs": [],
   "source": [
    "x_train_scaled = pd.DataFrame(data = x_train_scaled, columns=x_train.columns)\n",
    "x_test_scaled = pd.DataFrame(data = x_test_scaled, columns=x_train.columns)"
   ]
  },
  {
   "cell_type": "code",
   "execution_count": 36,
   "metadata": {},
   "outputs": [
    {
     "data": {
      "text/html": [
       "<div>\n",
       "<style scoped>\n",
       "    .dataframe tbody tr th:only-of-type {\n",
       "        vertical-align: middle;\n",
       "    }\n",
       "\n",
       "    .dataframe tbody tr th {\n",
       "        vertical-align: top;\n",
       "    }\n",
       "\n",
       "    .dataframe thead th {\n",
       "        text-align: right;\n",
       "    }\n",
       "</style>\n",
       "<table border=\"1\" class=\"dataframe\">\n",
       "  <thead>\n",
       "    <tr style=\"text-align: right;\">\n",
       "      <th></th>\n",
       "      <th>Gender</th>\n",
       "      <th>Age</th>\n",
       "      <th>EstimatedSalary</th>\n",
       "    </tr>\n",
       "  </thead>\n",
       "  <tbody>\n",
       "    <tr>\n",
       "      <th>count</th>\n",
       "      <td>268.00</td>\n",
       "      <td>268.00</td>\n",
       "      <td>268.00</td>\n",
       "    </tr>\n",
       "    <tr>\n",
       "      <th>mean</th>\n",
       "      <td>-0.00</td>\n",
       "      <td>-0.00</td>\n",
       "      <td>0.00</td>\n",
       "    </tr>\n",
       "    <tr>\n",
       "      <th>std</th>\n",
       "      <td>1.00</td>\n",
       "      <td>1.00</td>\n",
       "      <td>1.00</td>\n",
       "    </tr>\n",
       "    <tr>\n",
       "      <th>min</th>\n",
       "      <td>-0.98</td>\n",
       "      <td>-1.91</td>\n",
       "      <td>-1.64</td>\n",
       "    </tr>\n",
       "    <tr>\n",
       "      <th>25%</th>\n",
       "      <td>-0.98</td>\n",
       "      <td>-0.74</td>\n",
       "      <td>-0.78</td>\n",
       "    </tr>\n",
       "    <tr>\n",
       "      <th>50%</th>\n",
       "      <td>-0.98</td>\n",
       "      <td>-0.05</td>\n",
       "      <td>0.02</td>\n",
       "    </tr>\n",
       "    <tr>\n",
       "      <th>75%</th>\n",
       "      <td>1.02</td>\n",
       "      <td>0.73</td>\n",
       "      <td>0.52</td>\n",
       "    </tr>\n",
       "    <tr>\n",
       "      <th>max</th>\n",
       "      <td>1.02</td>\n",
       "      <td>2.20</td>\n",
       "      <td>2.35</td>\n",
       "    </tr>\n",
       "  </tbody>\n",
       "</table>\n",
       "</div>"
      ],
      "text/plain": [
       "       Gender     Age  EstimatedSalary\n",
       "count  268.00  268.00           268.00\n",
       "mean    -0.00   -0.00             0.00\n",
       "std      1.00    1.00             1.00\n",
       "min     -0.98   -1.91            -1.64\n",
       "25%     -0.98   -0.74            -0.78\n",
       "50%     -0.98   -0.05             0.02\n",
       "75%      1.02    0.73             0.52\n",
       "max      1.02    2.20             2.35"
      ]
     },
     "execution_count": 36,
     "metadata": {},
     "output_type": "execute_result"
    }
   ],
   "source": [
    "np.round(x_train_scaled.describe(), 2)"
   ]
  },
  {
   "cell_type": "code",
   "execution_count": 38,
   "metadata": {},
   "outputs": [
    {
     "data": {
      "image/png": "[encoded data removed]",
      "text/plain": [
       "<Figure size 1500x400 with 2 Axes>"
      ]
     },
     "metadata": {},
     "output_type": "display_data"
    }
   ],
   "source": [
    "fig,(x1,x2) = plt.subplots(1,2, figsize=(15,4))\n",
    "x1.scatter(x_train['Age'],x_train['EstimatedSalary'])\n",
    "plt.title(\"before\")\n",
    "plt.title(\"After scaling\")\n",
    "plt.xlabel(\"Age\")\n",
    "\n",
    "\n",
    "x2.scatter(x_train_scaled['Age'],x_train_scaled['EstimatedSalary'], color='red')\n",
    "plt.title(\"After scaling\")\n",
    "plt.xlabel(\"Age\")\n",
    "plt.ylabel(\"Salary\")\n",
    "\n",
    "plt.show()"
   ]
  },
  {
   "cell_type": "code",
   "execution_count": null,
   "metadata": {},
   "outputs": [],
   "source": []
  }
 ],
 "metadata": {
  "kernelspec": {
   "display_name": "venv",
   "language": "python",
   "name": "python3"
  },
  "language_info": {
   "codemirror_mode": {
    "name": "ipython",
    "version": 3
   },
   "file_extension": ".py",
   "mimetype": "text/x-python",
   "name": "python",
   "nbconvert_exporter": "python",
   "pygments_lexer": "ipython3",
   "version": "3.12.3"
  }
 },
 "nbformat": 4,
 "nbformat_minor": 2
}
