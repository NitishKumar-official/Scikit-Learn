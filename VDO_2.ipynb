{
 "cells": [
  {
   "cell_type": "markdown",
   "metadata": {},
   "source": [
    "topic:- MinMaxScaler, Normalization"
   ]
  },
  {
   "cell_type": "markdown",
   "metadata": {},
   "source": [
    "## Feature Scalling in scikit-Learn , MinMaxScaler, Normalization"
   ]
  },
  {
   "cell_type": "code",
   "execution_count": 2,
   "metadata": {},
   "outputs": [
    {
     "name": "stdout",
     "output_type": "stream",
     "text": [
      "   selling_price  km_driven  year\n",
      "0          60000      70000  2007\n",
      "1         135000      50000  2007\n",
      "2         600000     100000  2012\n",
      "3         250000      46000  2017\n",
      "4         450000     141000  2014\n"
     ]
    }
   ],
   "source": [
    "import pandas as pd\n",
    "df = pd.read_csv(\"CAR DETAILS FROM CAR DEKHO.csv\")\n",
    "df = df[['selling_price','km_driven','year']]\n",
    "print(df.head())"
   ]
  },
  {
   "cell_type": "markdown",
   "metadata": {},
   "source": [
    "## Feature Scaling\n",
    "### TYPES- 1. Normalization   2. Standardization\n"
   ]
  },
  {
   "cell_type": "markdown",
   "metadata": {},
   "source": [
    " 1. Normalizaton:-\n",
    " Normalization is a scaling technique in which values are shifted and rescaled \n",
    " so that they end up ranging between 0 and 1. It is also known as Min_Max scaling\n",
    "\n",
    " x(scaled) = (x - x(min))/(x(max) - x(min))\n"
   ]
  },
  {
   "cell_type": "markdown",
   "metadata": {},
   "source": [
    "# Applying Normalization: Minmax Scaling"
   ]
  },
  {
   "cell_type": "code",
   "execution_count": null,
   "metadata": {},
   "outputs": [
    {
     "name": "stdout",
     "output_type": "stream",
     "text": [
      "[[0.0045045  0.08678301 0.53571429]\n",
      " [0.01295045 0.06198751 0.53571429]\n",
      " [0.06531532 0.12397626 0.71428571]\n",
      " ...\n",
      " [0.01013514 0.10290008 0.60714286]\n",
      " [0.09515766 0.11157851 0.85714286]\n",
      " [0.02308559 0.04958976 0.85714286]]\n"
     ]
    }
   ],
   "source": [
    "from sklearn.preprocessing import MinMaxScaler\n",
    "scaler = MinMaxScaler()\n",
    "scaled_df = scaler.fit_transform(df)   # it return a numpy array\n",
    "print(scaled_df)\n"
   ]
  },
  {
   "cell_type": "code",
   "execution_count": 8,
   "metadata": {},
   "outputs": [
    {
     "name": "stdout",
     "output_type": "stream",
     "text": [
      "      selling_price  km_driven      year\n",
      "0          0.004505   0.086783  0.535714\n",
      "1          0.012950   0.061988  0.535714\n",
      "2          0.065315   0.123976  0.714286\n",
      "3          0.025901   0.057028  0.892857\n",
      "4          0.048423   0.174807  0.785714\n",
      "...             ...        ...       ...\n",
      "4335       0.043919   0.099181  0.785714\n",
      "4336       0.043919   0.099181  0.785714\n",
      "4337       0.010135   0.102900  0.607143\n",
      "4338       0.095158   0.111579  0.857143\n",
      "4339       0.023086   0.049590  0.857143\n",
      "\n",
      "[4340 rows x 3 columns]\n"
     ]
    }
   ],
   "source": [
    "scaled_df = pd.DataFrame(data = scaled_df,columns=df.columns)\n",
    "print(scaled_df)"
   ]
  },
  {
   "cell_type": "markdown",
   "metadata": {},
   "source": [
    "# Train Test Split"
   ]
  },
  {
   "cell_type": "code",
   "execution_count": 10,
   "metadata": {},
   "outputs": [
    {
     "name": "stdout",
     "output_type": "stream",
     "text": [
      "0        60000\n",
      "1       135000\n",
      "2       600000\n",
      "3       250000\n",
      "4       450000\n",
      "         ...  \n",
      "4335    409999\n",
      "4336    409999\n",
      "4337    110000\n",
      "4338    865000\n",
      "4339    225000\n",
      "Name: selling_price, Length: 4340, dtype: int64\n"
     ]
    }
   ],
   "source": [
    "from sklearn.model_selection import train_test_split\n",
    "x = df.drop('selling_price', axis=1)\n",
    "y = df['selling_price']\n",
    "print(y)"
   ]
  },
  {
   "cell_type": "code",
   "execution_count": 12,
   "metadata": {},
   "outputs": [],
   "source": [
    "x_train, x_test, y_train, y_test = train_test_split(x,y,test_size=0.2,random_state=42)\n",
    "# print(x_train)"
   ]
  },
  {
   "cell_type": "markdown",
   "metadata": {},
   "source": [
    "# Feature-Scaling: Normalization: Minmax Scaler"
   ]
  },
  {
   "cell_type": "code",
   "execution_count": 16,
   "metadata": {},
   "outputs": [
    {
     "name": "stdout",
     "output_type": "stream",
     "text": [
      "[[0.02479426 0.89285714]\n",
      " [0.06198751 0.92857143]\n",
      " [0.03099313 0.75      ]\n",
      " ...\n",
      " [0.06322728 0.85714286]\n",
      " [0.09918076 0.75      ]\n",
      " [0.09918076 0.75      ]]\n"
     ]
    }
   ],
   "source": [
    "x_train_scalled = scaler.fit_transform(x_train)\n",
    "x_test_scalled = scaler.transform(x_test)\n",
    "\n",
    "print(x_train_scalled)  # 80% scalled"
   ]
  },
  {
   "cell_type": "code",
   "execution_count": 17,
   "metadata": {},
   "outputs": [
    {
     "name": "stdout",
     "output_type": "stream",
     "text": [
      "[[0.09918076 0.64285714]\n",
      " [0.03347268 0.96428571]\n",
      " [0.05172589 0.57142857]\n",
      " ...\n",
      " [0.04958976 0.67857143]\n",
      " [0.0080325  0.89285714]\n",
      " [0.03719201 0.96428571]]\n"
     ]
    }
   ],
   "source": [
    "print(x_test_scalled)  # 20% scalled"
   ]
  },
  {
   "cell_type": "code",
   "execution_count": 21,
   "metadata": {},
   "outputs": [
    {
     "name": "stdout",
     "output_type": "stream",
     "text": [
      "     km_driven      year\n",
      "0     0.099181  0.642857\n",
      "1     0.033473  0.964286\n",
      "2     0.051726  0.571429\n",
      "3     0.174807  0.785714\n",
      "4     0.074385  0.857143\n",
      "..         ...       ...\n",
      "863   0.074385  0.535714\n",
      "864   0.148772  0.821429\n",
      "865   0.049590  0.678571\n",
      "866   0.008033  0.892857\n",
      "867   0.037192  0.964286\n",
      "\n",
      "[868 rows x 2 columns]\n"
     ]
    }
   ],
   "source": [
    "x_train_scalled = pd.DataFrame(data=x_train_scalled, columns=x_train.columns)\n",
    "x_test_scalled = pd.DataFrame(data=x_test_scalled, columns=x_train.columns)\n",
    "\n",
    "print(x_test_scalled)\n",
    "# print(x_train_scalled)"
   ]
  },
  {
   "cell_type": "code",
   "execution_count": null,
   "metadata": {},
   "outputs": [],
   "source": []
  }
 ],
 "metadata": {
  "kernelspec": {
   "display_name": "venv",
   "language": "python",
   "name": "python3"
  },
  "language_info": {
   "codemirror_mode": {
    "name": "ipython",
    "version": 3
   },
   "file_extension": ".py",
   "mimetype": "text/x-python",
   "name": "python",
   "nbconvert_exporter": "python",
   "pygments_lexer": "ipython3",
   "version": "3.12.3"
  }
 },
 "nbformat": 4,
 "nbformat_minor": 2
}
