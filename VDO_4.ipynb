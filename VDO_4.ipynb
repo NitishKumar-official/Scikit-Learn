{
 "cells": [
  {
   "cell_type": "markdown",
   "metadata": {},
   "source": [
    "topic:-label encoder, ordinal encoder"
   ]
  },
  {
   "cell_type": "markdown",
   "metadata": {},
   "source": [
    "# Lable Encoder and Ordinal Encoder"
   ]
  },
  {
   "cell_type": "markdown",
   "metadata": {},
   "source": [
    "## USING NORMAL WAY"
   ]
  },
  {
   "cell_type": "code",
   "execution_count": 35,
   "metadata": {},
   "outputs": [],
   "source": [
    "import numpy as np\n",
    "import pandas as pd"
   ]
  },
  {
   "cell_type": "code",
   "execution_count": 36,
   "metadata": {},
   "outputs": [],
   "source": [
    "df = pd.read_csv(\"CAR DETAILS FROM CAR DEKHO.csv\", usecols=['name','fuel','seller_type','transmission','owner'])"
   ]
  },
  {
   "cell_type": "code",
   "execution_count": 37,
   "metadata": {},
   "outputs": [
    {
     "name": "stdout",
     "output_type": "stream",
     "text": [
      "                       name    fuel seller_type transmission         owner\n",
      "0             Maruti 800 AC  Petrol  Individual       Manual   First Owner\n",
      "1  Maruti Wagon R LXI Minor  Petrol  Individual       Manual   First Owner\n",
      "2      Hyundai Verna 1.6 SX  Diesel  Individual       Manual   First Owner\n",
      "3    Datsun RediGO T Option  Petrol  Individual       Manual   First Owner\n",
      "4     Honda Amaze VX i-DTEC  Diesel  Individual       Manual  Second Owner\n"
     ]
    }
   ],
   "source": [
    "print(df.head())"
   ]
  },
  {
   "cell_type": "code",
   "execution_count": 38,
   "metadata": {},
   "outputs": [],
   "source": [
    "df.drop('name',axis=1, inplace=True)\n",
    "df['transmission'] = df['transmission'].map({'Manual':0, 'Automatic':1})"
   ]
  },
  {
   "cell_type": "code",
   "execution_count": 39,
   "metadata": {},
   "outputs": [
    {
     "name": "stdout",
     "output_type": "stream",
     "text": [
      "     fuel seller_type  transmission         owner\n",
      "0  Petrol  Individual             0   First Owner\n",
      "1  Petrol  Individual             0   First Owner\n",
      "2  Diesel  Individual             0   First Owner\n",
      "3  Petrol  Individual             0   First Owner\n",
      "4  Diesel  Individual             0  Second Owner\n"
     ]
    }
   ],
   "source": [
    "print(df.head())"
   ]
  },
  {
   "cell_type": "markdown",
   "metadata": {},
   "source": [
    "### seller_type:- kitne alag alag seller type hain wo find krne ke liye value_counts() ka use krte hain"
   ]
  },
  {
   "cell_type": "code",
   "execution_count": 40,
   "metadata": {},
   "outputs": [
    {
     "data": {
      "text/plain": [
       "seller_type\n",
       "Individual          3244\n",
       "Dealer               994\n",
       "Trustmark Dealer     102\n",
       "Name: count, dtype: int64"
      ]
     },
     "execution_count": 40,
     "metadata": {},
     "output_type": "execute_result"
    }
   ],
   "source": [
    "df['seller_type'].value_counts()"
   ]
  },
  {
   "cell_type": "code",
   "execution_count": 41,
   "metadata": {},
   "outputs": [],
   "source": [
    "df['seller_type'] = df['seller_type'].map({'Individual':0, 'Dealer':1,'Trustmark Dealer':2})"
   ]
  },
  {
   "cell_type": "code",
   "execution_count": 42,
   "metadata": {},
   "outputs": [
    {
     "name": "stdout",
     "output_type": "stream",
     "text": [
      "        fuel  seller_type  transmission         owner\n",
      "3997  Diesel            0             0   Third Owner\n",
      "711   Diesel            1             1   First Owner\n",
      "1452  Diesel            0             0  Second Owner\n",
      "2502  Petrol            0             0   First Owner\n",
      "3513  Petrol            0             0   First Owner\n"
     ]
    }
   ],
   "source": [
    "print(df.sample(5))"
   ]
  },
  {
   "cell_type": "code",
   "execution_count": 44,
   "metadata": {},
   "outputs": [],
   "source": [
    "from sklearn.model_selection import train_test_split\n",
    "X = df.drop('fuel', axis=1)\n",
    "y =df['fuel']"
   ]
  },
  {
   "cell_type": "code",
   "execution_count": 45,
   "metadata": {},
   "outputs": [],
   "source": [
    "X_train, X_test, y_train, y_test = train_test_split(X, y, test_size=0.2, random_state=42)"
   ]
  },
  {
   "cell_type": "code",
   "execution_count": 48,
   "metadata": {},
   "outputs": [
    {
     "name": "stdout",
     "output_type": "stream",
     "text": [
      "227     Diesel\n",
      "964     Diesel\n",
      "2045    Petrol\n",
      "1025    Diesel\n",
      "4242    Diesel\n",
      "         ...  \n",
      "3444    Diesel\n",
      "466     Diesel\n",
      "3092    Diesel\n",
      "3772    Diesel\n",
      "860     Petrol\n",
      "Name: fuel, Length: 3472, dtype: object\n"
     ]
    }
   ],
   "source": [
    "print(y_train)"
   ]
  },
  {
   "cell_type": "markdown",
   "metadata": {},
   "source": [
    "# Using Scikitlearn\n",
    "### 1. Applying Label Encoder          2. OrdinalEncoder\n",
    "\n",
    "LabelEncoder:- ye hmesha target value pr use hota hai mtlb output pr"
   ]
  },
  {
   "cell_type": "code",
   "execution_count": 50,
   "metadata": {},
   "outputs": [],
   "source": [
    "from sklearn.preprocessing import LabelEncoder, OrdinalEncoder"
   ]
  },
  {
   "cell_type": "code",
   "execution_count": 51,
   "metadata": {},
   "outputs": [],
   "source": [
    "#APPLYING LABEL ENCODER\n",
    "le = LabelEncoder()"
   ]
  },
  {
   "cell_type": "code",
   "execution_count": 53,
   "metadata": {},
   "outputs": [],
   "source": [
    "y_train_scaled = le.fit_transform(y_train)\n",
    "y_test_scaled = le.transform(y_test)"
   ]
  },
  {
   "cell_type": "code",
   "execution_count": 57,
   "metadata": {},
   "outputs": [
    {
     "name": "stdout",
     "output_type": "stream",
     "text": [
      "[1 1 4 ... 1 1 4]\n"
     ]
    }
   ],
   "source": [
    "print(y_train_scaled)"
   ]
  },
  {
   "cell_type": "code",
   "execution_count": 55,
   "metadata": {},
   "outputs": [],
   "source": [
    "oe = OrdinalEncoder()\n",
    "X_train_traf = oe.fit_transform(X_train)\n",
    "X_test_traf = oe.transform(X_test)"
   ]
  },
  {
   "cell_type": "code",
   "execution_count": 60,
   "metadata": {},
   "outputs": [
    {
     "name": "stdout",
     "output_type": "stream",
     "text": [
      "      seller_type  transmission         owner\n",
      "227             0             0   First Owner\n",
      "964             0             0   First Owner\n",
      "2045            0             0  Second Owner\n"
     ]
    }
   ],
   "source": [
    "print(X_train.head(3))"
   ]
  },
  {
   "cell_type": "code",
   "execution_count": 63,
   "metadata": {},
   "outputs": [
    {
     "name": "stdout",
     "output_type": "stream",
     "text": [
      "[[0. 0. 0.]\n",
      " [0. 0. 0.]\n",
      " [0. 0. 2.]\n",
      " ...\n",
      " [1. 0. 0.]\n",
      " [0. 0. 0.]\n",
      " [0. 0. 0.]]\n"
     ]
    }
   ],
   "source": [
    "print(X_train_traf)"
   ]
  },
  {
   "cell_type": "code",
   "execution_count": null,
   "metadata": {},
   "outputs": [],
   "source": []
  }
 ],
 "metadata": {
  "kernelspec": {
   "display_name": "venv",
   "language": "python",
   "name": "python3"
  },
  "language_info": {
   "codemirror_mode": {
    "name": "ipython",
    "version": 3
   },
   "file_extension": ".py",
   "mimetype": "text/x-python",
   "name": "python",
   "nbconvert_exporter": "python",
   "pygments_lexer": "ipython3",
   "version": "3.12.3"
  }
 },
 "nbformat": 4,
 "nbformat_minor": 2
}
